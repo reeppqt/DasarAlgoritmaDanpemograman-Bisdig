{
  "nbformat": 4,
  "nbformat_minor": 0,
  "metadata": {
    "colab": {
      "provenance": [],
      "authorship_tag": "ABX9TyMwNFjJufpqEPREc17HKDCE",
      "include_colab_link": true
    },
    "kernelspec": {
      "name": "python3",
      "display_name": "Python 3"
    },
    "language_info": {
      "name": "python"
    }
  },
  "cells": [
    {
      "cell_type": "markdown",
      "metadata": {
        "id": "view-in-github",
        "colab_type": "text"
      },
      "source": [
        "<a href=\"https://colab.research.google.com/github/reeppqt/DasarAlgoritmaDanpemograman-Bisdig/blob/main/faktorial_rekursif.ipynb\" target=\"_parent\"><img src=\"https://colab.research.google.com/assets/colab-badge.svg\" alt=\"Open In Colab\"/></a>"
      ]
    },
    {
      "cell_type": "code",
      "execution_count": 1,
      "metadata": {
        "colab": {
          "base_uri": "https://localhost:8080/"
        },
        "id": "dEtmNwrLuNZ_",
        "outputId": "d300d5bc-be04-4d41-d653-5c89bfb3572d"
      },
      "outputs": [
        {
          "output_type": "stream",
          "name": "stdout",
          "text": [
            "Masukkan angka untuk menghitung faktorial: 10\n",
            "Faktorial dari 10 adalah 3628800\n"
          ]
        }
      ],
      "source": [
        "def factorial(n):\n",
        "    if n == 0 or n == 1:  # Base case\n",
        "        return 1\n",
        "    else:\n",
        "        return n * factorial(n - 1)  # Recursive case\n",
        "\n",
        "# Input dari pengguna\n",
        "num = int(input(\"Masukkan angka untuk menghitung faktorial: \"))\n",
        "\n",
        "# Validasi input\n",
        "if num < 0:\n",
        "    print(\"Faktorial tidak terdefinisi untuk bilangan negatif.\")\n",
        "else:\n",
        "    print(f\"Faktorial dari {num} adalah {factorial(num)}\")"
      ]
    }
  ]
}
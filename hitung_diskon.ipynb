{
  "nbformat": 4,
  "nbformat_minor": 0,
  "metadata": {
    "colab": {
      "provenance": [],
      "authorship_tag": "ABX9TyM74pOUn6nr6kJGgLiqKVmZ",
      "include_colab_link": true
    },
    "kernelspec": {
      "name": "python3",
      "display_name": "Python 3"
    },
    "language_info": {
      "name": "python"
    }
  },
  "cells": [
    {
      "cell_type": "markdown",
      "metadata": {
        "id": "view-in-github",
        "colab_type": "text"
      },
      "source": [
        "<a href=\"https://colab.research.google.com/github/reeppqt/DasarAlgoritmaDanpemograman-Bisdig/blob/main/hitung_diskon6.ipynb\" target=\"_parent\"><img src=\"https://colab.research.google.com/assets/colab-badge.svg\" alt=\"Open In Colab\"/></a>"
      ]
    },
    {
      "cell_type": "code",
      "execution_count": 10,
      "metadata": {
        "colab": {
          "base_uri": "https://localhost:8080/"
        },
        "id": "dEtmNwrLuNZ_",
        "outputId": "ed978e0d-6575-44e9-98e4-cfbadd7ebff7"
      },
      "outputs": [
        {
          "output_type": "stream",
          "name": "stdout",
          "text": [
            "Masukkan total belanja (Rp): 600000\n",
            "Selamat! Anda mendapat diskon 10%: Rp60,000\n",
            "Total bayar: Rp540,000\n"
          ]
        }
      ],
      "source": [
        "def hitung_diskon(total_belanja):\n",
        "    if total_belanja > 500000:\n",
        "        diskon = total_belanja * 0.10  # Diskon 10%\n",
        "        total_bayar = total_belanja - diskon\n",
        "        print(f\"Selamat! Anda mendapat diskon 10%: Rp{diskon:,.0f}\")\n",
        "    else:\n",
        "        total_bayar = total_belanja\n",
        "        print(\"Belanja lagi Rp700.000 untuk mendapatkan diskon 10%!\")\n",
        "    return total_bayar\n",
        "\n",
        "# Input total belanja dari pengguna\n",
        "try:\n",
        "    total_belanja = float(input(\"Masukkan total belanja (Rp): \"))\n",
        "    if total_belanja < 0:\n",
        "        print(\"Total belanja tidak boleh negatif!\")\n",
        "    else:\n",
        "        total_bayar = hitung_diskon(total_belanja)\n",
        "        print(f\"Total bayar: Rp{total_bayar:,.0f}\")\n",
        "except ValueError:\n",
        "    print(\"Input harus berupa angka!\")"
      ]
    }
  ]
}

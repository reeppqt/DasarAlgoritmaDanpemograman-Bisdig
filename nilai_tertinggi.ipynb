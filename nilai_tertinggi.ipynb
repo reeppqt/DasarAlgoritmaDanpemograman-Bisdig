{
  "nbformat": 4,
  "nbformat_minor": 0,
  "metadata": {
    "colab": {
      "provenance": [],
      "authorship_tag": "ABX9TyMMXoq6Bp5Z75F3U2bo0OGr",
      "include_colab_link": true
    },
    "kernelspec": {
      "name": "python3",
      "display_name": "Python 3"
    },
    "language_info": {
      "name": "python"
    }
  },
  "cells": [
    {
      "cell_type": "markdown",
      "metadata": {
        "id": "view-in-github",
        "colab_type": "text"
      },
      "source": [
        "<a href=\"https://colab.research.google.com/github/reeppqt/DasarAlgoritmaDanpemograman-Bisdig/blob/main/nilai_tertinggi.ipynb\" target=\"_parent\"><img src=\"https://colab.research.google.com/assets/colab-badge.svg\" alt=\"Open In Colab\"/></a>"
      ]
    },
    {
      "cell_type": "code",
      "execution_count": 3,
      "metadata": {
        "colab": {
          "base_uri": "https://localhost:8080/"
        },
        "id": "dEtmNwrLuNZ_",
        "outputId": "0b6f6ce2-36e2-4ec1-ae3a-dd9d9478c0cf"
      },
      "outputs": [
        {
          "output_type": "stream",
          "name": "stdout",
          "text": [
            "Masukkan nilai siswa ke-1: 80\n",
            "Masukkan nilai siswa ke-2: 70\n",
            "Masukkan nilai siswa ke-3: 80\n",
            "Masukkan nilai siswa ke-4: 85\n",
            "Masukkan nilai siswa ke-5: 75\n",
            "\n",
            "Nilai tertinggi adalah 85.0\n",
            "Didapatkan oleh siswa ke-4\n"
          ]
        }
      ],
      "source": [
        "# Fungsi untuk mencari nilai tertinggi dan indeksnya\n",
        "def cari_nilai_tertinggi(nilai_siswa):\n",
        "    nilai_tertinggi = max(nilai_siswa)\n",
        "    siswa_tertinggi = nilai_siswa.index(nilai_tertinggi) + 1  # +1 karena indeks dimulai dari 0\n",
        "    return nilai_tertinggi, siswa_tertinggi\n",
        "\n",
        "# Input nilai 5 siswa menggunakan perulangan\n",
        "nilai_siswa = []\n",
        "for i in range(5):\n",
        "    nilai = float(input(f\"Masukkan nilai siswa ke-{i+1}: \"))\n",
        "    nilai_siswa.append(nilai)\n",
        "\n",
        "# Cari nilai tertinggi\n",
        "nilai_tertinggi, siswa_tertinggi = cari_nilai_tertinggi(nilai_siswa)\n",
        "\n",
        "# Tampilkan hasil\n",
        "print(f\"\\nNilai tertinggi adalah {nilai_tertinggi}\")\n",
        "print(f\"Didapatkan oleh siswa ke-{siswa_tertinggi}\")"
      ]
    }
  ]
}
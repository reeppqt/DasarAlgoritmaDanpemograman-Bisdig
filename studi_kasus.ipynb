{
  "nbformat": 4,
  "nbformat_minor": 0,
  "metadata": {
    "colab": {
      "provenance": [],
      "authorship_tag": "ABX9TyMQG+ULiyTQ+Crf196HB0R7",
      "include_colab_link": true
    },
    "kernelspec": {
      "name": "python3",
      "display_name": "Python 3"
    },
    "language_info": {
      "name": "python"
    }
  },
  "cells": [
    {
      "cell_type": "markdown",
      "metadata": {
        "id": "view-in-github",
        "colab_type": "text"
      },
      "source": [
        "<a href=\"https://colab.research.google.com/github/reeppqt/DasarAlgoritmaDanpemograman-Bisdig/blob/main/studi_kasus.ipynb\" target=\"_parent\"><img src=\"https://colab.research.google.com/assets/colab-badge.svg\" alt=\"Open In Colab\"/></a>"
      ]
    },
    {
      "cell_type": "code",
      "execution_count": 11,
      "metadata": {
        "colab": {
          "base_uri": "https://localhost:8080/"
        },
        "id": "dEtmNwrLuNZ_",
        "outputId": "8ee784cc-a4bf-4810-8e4b-4a741b5876d8"
      },
      "outputs": [
        {
          "output_type": "stream",
          "name": "stdout",
          "text": [
            "Masukkan angka untuk menghitung faktorial: 27\n",
            "Faktorial dari 27 adalah 10888869450418352160768000000\n"
          ]
        }
      ],
      "source": [
        "def factorial(n):\n",
        "    if n == 0 or n == 1:  # Base case\n",
        "        return 1\n",
        "    else:\n",
        "        return n * factorial(n - 1)  # Recursive case\n",
        "\n",
        "# Input dari pengguna\n",
        "num = int(input(\"Masukkan angka untuk menghitung faktorial: \"))\n",
        "\n",
        "# Validasi input\n",
        "if num < 0:\n",
        "    print(\"Faktorial tidak terdefinisi untuk bilangan negatif.\")\n",
        "else:\n",
        "    print(f\"Faktorial dari {num} adalah {factorial(num)}\")\n",
        ""
      ]
    },
    {
      "cell_type": "code",
      "source": [
        "# Fungsi untuk mencari nilai tertinggi dan indeksnya\n",
        "def cari_nilai_tertinggi(nilai_siswa):\n",
        "    nilai_tertinggi = max(nilai_siswa)\n",
        "    siswa_tertinggi = nilai_siswa.index(nilai_tertinggi) + 1  # +1 karena indeks dimulai dari 0\n",
        "    return nilai_tertinggi, siswa_tertinggi\n",
        "\n",
        "# Input nilai 5 siswa menggunakan perulangan\n",
        "nilai_siswa = []\n",
        "for i in range(5):\n",
        "    nilai = float(input(f\"Masukkan nilai siswa ke-{i+1}: \"))\n",
        "    nilai_siswa.append(nilai)\n",
        "\n",
        "# Cari nilai tertinggi\n",
        "nilai_tertinggi, siswa_tertinggi = cari_nilai_tertinggi(nilai_siswa)\n",
        "\n",
        "# Tampilkan hasil\n",
        "print(f\"\\nNilai tertinggi adalah {nilai_tertinggi}\")\n",
        "print(f\"Didapatkan oleh siswa ke-{siswa_tertinggi}\")\n"
      ],
      "metadata": {
        "colab": {
          "base_uri": "https://localhost:8080/"
        },
        "id": "Ntp35LrG-BrC",
        "outputId": "40ce5ddf-9104-47bc-8920-f5a37bcd6135"
      },
      "execution_count": 12,
      "outputs": [
        {
          "output_type": "stream",
          "name": "stdout",
          "text": [
            "Masukkan nilai siswa ke-1: 90\n",
            "Masukkan nilai siswa ke-2: 90\n",
            "Masukkan nilai siswa ke-3: 99\n",
            "Masukkan nilai siswa ke-4: 98\n",
            "Masukkan nilai siswa ke-5: 100\n",
            "\n",
            "Nilai tertinggi adalah 100.0\n",
            "Didapatkan oleh siswa ke-5\n"
          ]
        }
      ]
    },
    {
      "cell_type": "code",
      "source": [
        "def hitung_diskon(total_belanja):\n",
        "    if total_belanja > 500000:\n",
        "        diskon = total_belanja * 0.10  # Diskon 10%\n",
        "        total_bayar = total_belanja - diskon\n",
        "        print(f\"Selamat! Anda mendapat diskon 10%: Rp{diskon:,.0f}\")\n",
        "    else:\n",
        "        total_bayar = total_belanja\n",
        "        print(\"Belanja lagi Rp500.000 untuk mendapatkan diskon 10%!\")\n",
        "    return total_bayar\n",
        "\n",
        "# Input total belanja dari pengguna\n",
        "try:\n",
        "    total_belanja = float(input(\"Masukkan total belanja (Rp): \"))\n",
        "    if total_belanja < 0:\n",
        "        print(\"Total belanja tidak boleh negatif!\")\n",
        "    else:\n",
        "        total_bayar = hitung_diskon(total_belanja)\n",
        "        print(f\"Total bayar: Rp{total_bayar:,.0f}\")\n",
        "except ValueError:\n",
        "    print(\"Input harus berupa angka!\")"
      ],
      "metadata": {
        "colab": {
          "base_uri": "https://localhost:8080/"
        },
        "id": "QWKW6MfO-Ib0",
        "outputId": "ad31d5a2-65f9-4ebd-86fc-9f866a4f770a"
      },
      "execution_count": 13,
      "outputs": [
        {
          "output_type": "stream",
          "name": "stdout",
          "text": [
            "Masukkan total belanja (Rp): 70000000\n",
            "Selamat! Anda mendapat diskon 10%: Rp7,000,000\n",
            "Total bayar: Rp63,000,000\n"
          ]
        }
      ]
    }
  ]
}